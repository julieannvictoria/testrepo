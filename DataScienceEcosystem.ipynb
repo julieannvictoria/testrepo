{
 "cells": [
  {
   "cell_type": "markdown",
   "id": "4b7c13d2-0d1d-462f-9c18-3219a2587af4",
   "metadata": {},
   "source": [
    "#Data Science Tools and Ecosystem"
   ]
  },
  {
   "cell_type": "markdown",
   "id": "8fc8af5a-2648-45e4-871f-ab2e0c257158",
   "metadata": {},
   "source": [
    "In this notebook, Data Science Tools and Ecosystem are summarized."
   ]
  },
  {
   "cell_type": "markdown",
   "id": "bb2ec988-61c3-4ea8-8f41-f67ca1ced4ce",
   "metadata": {},
   "source": [
    "Some of the popular languages that Data Scientists use are:\n",
    "1. Python\n",
    "2. R\n",
    "3. SQL"
   ]
  },
  {
   "cell_type": "markdown",
   "id": "508e2143-155f-4e0f-9ff9-7bb57ad0dbff",
   "metadata": {},
   "source": [
    "Some of the commonly used libraries used by Data Scientists include:\n",
    "1. NumPy\n",
    "2. SciPy\n",
    "3. Pandas"
   ]
  },
  {
   "cell_type": "markdown",
   "id": "1b810f54-2d8a-4565-a010-55ea8f26b336",
   "metadata": {},
   "source": [
    "Data Science Tools\n",
    "--------------------\n",
    "RStudio\n",
    "\n",
    "Jupyter Lab\n",
    "\n",
    "Github"
   ]
  },
  {
   "cell_type": "markdown",
   "id": "63576084-4ee4-4ac9-87e6-291b2cbf0328",
   "metadata": {},
   "source": [
    "###Below are a few examples of evaluating arithmetic expressions in Python"
   ]
  },
  {
   "cell_type": "code",
   "execution_count": 1,
   "id": "0235c608-492c-4be1-bf3f-9e67b2d8c5a4",
   "metadata": {},
   "outputs": [
    {
     "name": "stdout",
     "output_type": "stream",
     "text": [
      "17\n"
     ]
    }
   ],
   "source": [
    "#This a simple arithmetic expression to mutiply then add integers\n",
    "print((3*4)+5)"
   ]
  },
  {
   "cell_type": "code",
   "execution_count": 2,
   "id": "775a104d-36b2-4f2d-8545-1d5c8d6c68bd",
   "metadata": {},
   "outputs": [
    {
     "name": "stdout",
     "output_type": "stream",
     "text": [
      "3.3333333333333335\n"
     ]
    }
   ],
   "source": [
    "#This will convert 200 minutes to hours by diving by 60\n",
    "print(200/60)"
   ]
  },
  {
   "cell_type": "markdown",
   "id": "6704903b-d68b-4aa5-831a-308c7b654fce",
   "metadata": {},
   "source": [
    "**Objectives:**\n",
    "- Popular Data Science Languages\n",
    "- Commonly Used Data Science Libraries\n",
    "- Popular Data Science Tools"
   ]
  },
  {
   "cell_type": "markdown",
   "id": "94c0d0b2-7c1c-4cfc-96e3-ac740af1ef88",
   "metadata": {},
   "source": [
    "##Author\n",
    "Julie Ann Abueva Victoria"
   ]
  }
 ],
 "metadata": {
  "kernelspec": {
   "display_name": "Python 3 (ipykernel)",
   "language": "python",
   "name": "python3"
  },
  "language_info": {
   "codemirror_mode": {
    "name": "ipython",
    "version": 3
   },
   "file_extension": ".py",
   "mimetype": "text/x-python",
   "name": "python",
   "nbconvert_exporter": "python",
   "pygments_lexer": "ipython3",
   "version": "3.12.7"
  }
 },
 "nbformat": 4,
 "nbformat_minor": 5
}
